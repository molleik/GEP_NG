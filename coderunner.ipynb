{
 "cells": [
  {
   "cell_type": "code",
   "execution_count": 1,
   "metadata": {},
   "outputs": [],
   "source": [
    "import os\n",
    "import pandas as pd\n",
    "from datetime import datetime"
   ]
  },
  {
   "cell_type": "code",
   "execution_count": 103,
   "metadata": {},
   "outputs": [],
   "source": [
    "def fill_daily_demand_data(demand_df,dt):\n",
    "    hour= dt.hour\n",
    "    day=dt.day\n",
    "    month=dt.month\n",
    "    return demand_df[month].loc[hour,day]\n",
    "\n",
    "    \n",
    "    \n",
    "def get_demand_daily():\n",
    "    '''this converts the monthly demand data into daily'''\n",
    "    year= 2015\n",
    "    earliest, latest = f'{year}-01-01T00:00', f'{year}-12-31T23:00'\n",
    "    dti = pd.date_range(earliest, latest, freq='H')\n",
    "    demand_df_formatted=pd.DataFrame(columns=['datetime','value'],index=dti)\n",
    "    demand_df_formatted['datetime']=demand_df_formatted['datetime'].index\n",
    "    month=['January','February','March','April','May','June','July','August','September','October','November','December']\n",
    "    demand_df={}\n",
    "    i=1\n",
    "    for m in month:\n",
    "        filepath=f'demand_data_formatted\\\\2015_demand_data\\{m}2015.xls'\n",
    "        dirname=os.path.abspath('')\n",
    "        filepath=os.path.join(dirname,filepath)\n",
    "        demand_df[i]=pd.read_excel(filepath,'Totals',skiprows = 37,nrows=24,usecols = 'B:AF')\n",
    "        i=i+1\n",
    "    demand_df_formatted['value']=demand_df_formatted['datetime'].apply(lambda x : fill_daily_demand_data(demand_df,x))\n",
    "\n",
    "    return demand_df_formatted    \n",
    "\n",
    "\n",
    "    \n"
   ]
  },
  {
   "cell_type": "code",
   "execution_count": 104,
   "metadata": {},
   "outputs": [],
   "source": [
    "a=get_demand_daily()"
   ]
  },
  {
   "cell_type": "code",
   "execution_count": 55,
   "metadata": {},
   "outputs": [],
   "source": [
    "i=1\n",
    "month=['January','February','March','April','May','June','July','August','September','October','November','December']\n",
    "demand_df={}\n",
    "for m in month:\n",
    "        filepath=f'demand_data_formatted\\\\2015_demand_data\\{m}2015.xls'\n",
    "        dirname=os.path.abspath('')\n",
    "        filepath=os.path.join(dirname,filepath)\n",
    "        demand_df[i]=pd.read_excel(filepath,'Totals',skiprows = 37,nrows=24,usecols = 'B:AF')\n",
    "        i+=1\n",
    "\n",
    "demand_df_formatted=pd.DataFrame(columns=['datetime','value'],index=dti)\n",
    "demand_df_formatted['datetime']=demand_df_formatted['datetime'].index"
   ]
  },
  {
   "cell_type": "code",
   "execution_count": 105,
   "metadata": {},
   "outputs": [
    {
     "data": {
      "text/html": [
       "<div>\n",
       "<style scoped>\n",
       "    .dataframe tbody tr th:only-of-type {\n",
       "        vertical-align: middle;\n",
       "    }\n",
       "\n",
       "    .dataframe tbody tr th {\n",
       "        vertical-align: top;\n",
       "    }\n",
       "\n",
       "    .dataframe thead th {\n",
       "        text-align: right;\n",
       "    }\n",
       "</style>\n",
       "<table border=\"1\" class=\"dataframe\">\n",
       "  <thead>\n",
       "    <tr style=\"text-align: right;\">\n",
       "      <th></th>\n",
       "      <th>datetime</th>\n",
       "      <th>value</th>\n",
       "    </tr>\n",
       "  </thead>\n",
       "  <tbody>\n",
       "    <tr>\n",
       "      <th>2015-01-01 00:00:00</th>\n",
       "      <td>2015-01-01 00:00:00</td>\n",
       "      <td>2001.39</td>\n",
       "    </tr>\n",
       "    <tr>\n",
       "      <th>2015-01-01 01:00:00</th>\n",
       "      <td>2015-01-01 01:00:00</td>\n",
       "      <td>1846.01</td>\n",
       "    </tr>\n",
       "    <tr>\n",
       "      <th>2015-01-01 02:00:00</th>\n",
       "      <td>2015-01-01 02:00:00</td>\n",
       "      <td>1773.90</td>\n",
       "    </tr>\n",
       "    <tr>\n",
       "      <th>2015-01-01 03:00:00</th>\n",
       "      <td>2015-01-01 03:00:00</td>\n",
       "      <td>1674.96</td>\n",
       "    </tr>\n",
       "    <tr>\n",
       "      <th>2015-01-01 04:00:00</th>\n",
       "      <td>2015-01-01 04:00:00</td>\n",
       "      <td>1694.68</td>\n",
       "    </tr>\n",
       "    <tr>\n",
       "      <th>...</th>\n",
       "      <td>...</td>\n",
       "      <td>...</td>\n",
       "    </tr>\n",
       "    <tr>\n",
       "      <th>2015-12-31 19:00:00</th>\n",
       "      <td>2015-12-31 19:00:00</td>\n",
       "      <td>NaN</td>\n",
       "    </tr>\n",
       "    <tr>\n",
       "      <th>2015-12-31 20:00:00</th>\n",
       "      <td>2015-12-31 20:00:00</td>\n",
       "      <td>NaN</td>\n",
       "    </tr>\n",
       "    <tr>\n",
       "      <th>2015-12-31 21:00:00</th>\n",
       "      <td>2015-12-31 21:00:00</td>\n",
       "      <td>NaN</td>\n",
       "    </tr>\n",
       "    <tr>\n",
       "      <th>2015-12-31 22:00:00</th>\n",
       "      <td>2015-12-31 22:00:00</td>\n",
       "      <td>NaN</td>\n",
       "    </tr>\n",
       "    <tr>\n",
       "      <th>2015-12-31 23:00:00</th>\n",
       "      <td>2015-12-31 23:00:00</td>\n",
       "      <td>NaN</td>\n",
       "    </tr>\n",
       "  </tbody>\n",
       "</table>\n",
       "<p>8760 rows × 2 columns</p>\n",
       "</div>"
      ],
      "text/plain": [
       "                               datetime    value\n",
       "2015-01-01 00:00:00 2015-01-01 00:00:00  2001.39\n",
       "2015-01-01 01:00:00 2015-01-01 01:00:00  1846.01\n",
       "2015-01-01 02:00:00 2015-01-01 02:00:00  1773.90\n",
       "2015-01-01 03:00:00 2015-01-01 03:00:00  1674.96\n",
       "2015-01-01 04:00:00 2015-01-01 04:00:00  1694.68\n",
       "...                                 ...      ...\n",
       "2015-12-31 19:00:00 2015-12-31 19:00:00      NaN\n",
       "2015-12-31 20:00:00 2015-12-31 20:00:00      NaN\n",
       "2015-12-31 21:00:00 2015-12-31 21:00:00      NaN\n",
       "2015-12-31 22:00:00 2015-12-31 22:00:00      NaN\n",
       "2015-12-31 23:00:00 2015-12-31 23:00:00      NaN\n",
       "\n",
       "[8760 rows x 2 columns]"
      ]
     },
     "execution_count": 105,
     "metadata": {},
     "output_type": "execute_result"
    }
   ],
   "source": [
    "a"
   ]
  },
  {
   "cell_type": "code",
   "execution_count": 102,
   "metadata": {},
   "outputs": [
    {
     "data": {
      "text/plain": [
       "13"
      ]
     },
     "execution_count": 102,
     "metadata": {},
     "output_type": "execute_result"
    }
   ],
   "source": [
    "demand_df_formatted.iloc[300]['datetime'].day"
   ]
  },
  {
   "cell_type": "code",
   "execution_count": null,
   "metadata": {},
   "outputs": [],
   "source": []
  }
 ],
 "metadata": {
  "kernelspec": {
   "display_name": "Python 3.8.12 ('base')",
   "language": "python",
   "name": "python3"
  },
  "language_info": {
   "codemirror_mode": {
    "name": "ipython",
    "version": 3
   },
   "file_extension": ".py",
   "mimetype": "text/x-python",
   "name": "python",
   "nbconvert_exporter": "python",
   "pygments_lexer": "ipython3",
   "version": "3.8.12"
  },
  "orig_nbformat": 4,
  "vscode": {
   "interpreter": {
    "hash": "dc652f85c0b7dfa1536a8b8f787fa866924247a4a695fa2e20997c6a554bb2a4"
   }
  }
 },
 "nbformat": 4,
 "nbformat_minor": 2
}
