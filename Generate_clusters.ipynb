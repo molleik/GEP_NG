{
 "cells": [
  {
   "cell_type": "code",
   "execution_count": 1,
   "metadata": {},
   "outputs": [],
   "source": [
    "%load_ext lab_black\n",
    "%load_ext autoreload\n",
    "%autoreload 2"
   ]
  },
  {
   "cell_type": "code",
   "execution_count": 2,
   "metadata": {},
   "outputs": [],
   "source": [
    "from clustering import (\n",
    "    get_demand_daily,\n",
    "    get_supply,\n",
    "    get_supply_multiple_years,\n",
    "    Data_one_year,\n",
    "    get_demand_monthly,\n",
    "    mergeall,\n",
    "    Cluster_data,\n",
    ")\n",
    "import os\n",
    "import matplotlib.pyplot as plt\n",
    "import numpy as np\n",
    "from datetime import datetime\n",
    "import pandas as pd"
   ]
  },
  {
   "cell_type": "code",
   "execution_count": 3,
   "metadata": {},
   "outputs": [],
   "source": [
    "# PV complete dataframe\n",
    "\n",
    "filepath_pv_list = [\n",
    "    os.path.join(\n",
    "        os.path.abspath(\"\"),\n",
    "        \"data\",\n",
    "        \"supply_data_formatted\",\n",
    "        \"PV\",\n",
    "        f\"PV_baalbeck_{year}.csv\",\n",
    "    )\n",
    "    for year in range(2015, 2019)\n",
    "]\n",
    "\n",
    "pv_df = get_supply_multiple_years(*filepath_pv_list)\n",
    "\n",
    "new_rows = pd.DataFrame(\n",
    "    [\n",
    "        {\"datetime\": datetime(2015, 1, 1, 1, 0), \"electricity\": 0},\n",
    "        {\"datetime\": datetime(2015, 1, 1, 0, 0), \"electricity\": 0},\n",
    "    ]\n",
    ")\n",
    "# pv_df\n",
    "pv_df = pd.concat([new_rows, pv_df], ignore_index=True)\n",
    "\n",
    "# Sort the DataFrame by datetime\n",
    "pv_df.sort_values(\"datetime\", inplace=True)\n",
    "\n",
    "# Reset the index\n",
    "pv_df.reset_index(drop=True, inplace=True)"
   ]
  },
  {
   "cell_type": "code",
   "execution_count": 4,
   "metadata": {},
   "outputs": [],
   "source": [
    "# wind complete dataframe\n",
    "\n",
    "filepath_wind_list = [\n",
    "    os.path.join(\n",
    "        os.path.abspath(\"\"),\n",
    "        \"data\",\n",
    "        \"supply_data_formatted\",\n",
    "        \"Wind\",\n",
    "        f\"Wind_Akkar_{year}.csv\",\n",
    "    )\n",
    "    for year in range(2015, 2019)\n",
    "]\n",
    "\n",
    "wind_df = get_supply_multiple_years(*filepath_wind_list)\n",
    "\n",
    "new_rows = pd.DataFrame(\n",
    "    [\n",
    "        {\"datetime\": datetime(2015, 1, 1, 1, 0), \"electricity\": 0.637},\n",
    "        {\"datetime\": datetime(2015, 1, 1, 0, 0), \"electricity\": 0.621},\n",
    "    ]\n",
    ")  # 2016 values\n",
    "# pv_df\n",
    "wind_df = pd.concat([new_rows, wind_df], ignore_index=True)\n",
    "\n",
    "# Sort the DataFrame by datetime\n",
    "wind_df.sort_values(\"datetime\", inplace=True)\n",
    "\n",
    "# Reset the index\n",
    "wind_df.reset_index(drop=True, inplace=True)"
   ]
  },
  {
   "cell_type": "code",
   "execution_count": 5,
   "metadata": {},
   "outputs": [],
   "source": [
    "daylight_saving_start_end_dates = [\n",
    "    \"2015-03-29\",\n",
    "    \"2016-03-27\",\n",
    "    \"2017-03-26\",\n",
    "    \"2018-03-25\",\n",
    "    \"2015-10-24\",\n",
    "    \"2016-10-29\",\n",
    "    \"2017-10-28\",\n",
    "    \"2018-10-27\",\n",
    "]\n",
    "days_to_remove = pd.to_datetime(daylight_saving_start_end_dates)"
   ]
  },
  {
   "cell_type": "code",
   "execution_count": 6,
   "metadata": {},
   "outputs": [],
   "source": [
    "pv_df = pv_df[~pv_df.datetime.dt.date.isin(days_to_remove.date)]\n",
    "wind_df = wind_df[~wind_df.datetime.dt.date.isin(days_to_remove.date)]"
   ]
  },
  {
   "cell_type": "code",
   "execution_count": 7,
   "metadata": {},
   "outputs": [],
   "source": [
    "# 2015\n",
    "demand_df = get_demand_daily()\n",
    "pv_df_year = pv_df[pv_df.datetime.dt.year == 2015].copy()\n",
    "wind_df_year = wind_df[wind_df.datetime.dt.year == 2015].copy()\n",
    "\n",
    "\n",
    "data_2015 = Data_one_year(\n",
    "    demand_df, wind_df_year, pv_df_year, demand_df[\"demand\"].max()\n",
    ")\n",
    "\n",
    "data_2015.write_main_df()"
   ]
  },
  {
   "cell_type": "code",
   "execution_count": 8,
   "metadata": {},
   "outputs": [],
   "source": [
    "clusters_2015 = Cluster_data(data_2015.cluster_input, 4)\n",
    "np.savetxt(\"2015_clusters_results\", clusters_2015.centroids.T, delimiter=\",\")"
   ]
  },
  {
   "cell_type": "code",
   "execution_count": 28,
   "metadata": {},
   "outputs": [
    {
     "data": {
      "text/plain": [
       "[77, 246, 23, 17]"
      ]
     },
     "execution_count": 28,
     "metadata": {},
     "output_type": "execute_result"
    }
   ],
   "source": [
    "clusters_2015.cluster_weights"
   ]
  },
  {
   "cell_type": "code",
   "execution_count": 9,
   "metadata": {},
   "outputs": [],
   "source": [
    "# 2016\n",
    "filepath_demand = os.path.join(\n",
    "    os.path.abspath(\"\"), \"data\", \"demand_data_formatted\", \"Average-Demand-2016.xlsx\"\n",
    ")\n",
    "demand_df = get_demand_monthly(filepath_demand)\n",
    "\n",
    "pv_df_year = pv_df[pv_df.datetime.dt.year == 2016].copy()\n",
    "wind_df_year = wind_df[wind_df.datetime.dt.year == 2016].copy()\n",
    "\n",
    "\n",
    "data_2016 = Data_one_year(\n",
    "    demand_df, wind_df_year, pv_df_year, demand_df[\"demand\"].max()\n",
    ")\n",
    "data_2016.write_main_df()"
   ]
  },
  {
   "cell_type": "code",
   "execution_count": 10,
   "metadata": {},
   "outputs": [],
   "source": [
    "clusters_2016 = Cluster_data(data_2016.cluster_input, 4)\n",
    "np.savetxt(\"2016_clusters_results\", clusters_2016.centroids.T, delimiter=\",\")"
   ]
  },
  {
   "cell_type": "code",
   "execution_count": 11,
   "metadata": {},
   "outputs": [
    {
     "data": {
      "text/plain": [
       "[129, 22, 148, 65]"
      ]
     },
     "execution_count": 11,
     "metadata": {},
     "output_type": "execute_result"
    }
   ],
   "source": [
    "clusters_2016.cluster_weights"
   ]
  },
  {
   "cell_type": "code",
   "execution_count": 12,
   "metadata": {},
   "outputs": [],
   "source": [
    "# 2017\n",
    "filepath_demand = os.path.join(\n",
    "    os.path.abspath(\"\"), \"data\", \"demand_data_formatted\", \"Average-Demand-2017.xlsx\"\n",
    ")\n",
    "demand_df = get_demand_monthly(filepath_demand)\n",
    "\n",
    "pv_df_year = pv_df[pv_df.datetime.dt.year == 2017].copy()\n",
    "wind_df_year = wind_df[wind_df.datetime.dt.year == 2017].copy()\n",
    "\n",
    "\n",
    "data_2017 = Data_one_year(\n",
    "    demand_df, wind_df_year, pv_df_year, demand_df[\"demand\"].max()\n",
    ")\n",
    "data_2017.write_main_df()"
   ]
  },
  {
   "cell_type": "code",
   "execution_count": 13,
   "metadata": {},
   "outputs": [],
   "source": [
    "clusters_2017 = Cluster_data(data_2017.cluster_input, 4)\n",
    "np.savetxt(\"2017_clusters_results\", clusters_2017.centroids.T, delimiter=\",\")"
   ]
  },
  {
   "cell_type": "code",
   "execution_count": 29,
   "metadata": {},
   "outputs": [
    {
     "data": {
      "text/plain": [
       "[124, 30, 59, 150]"
      ]
     },
     "execution_count": 29,
     "metadata": {},
     "output_type": "execute_result"
    }
   ],
   "source": [
    "clusters_2017.cluster_weights"
   ]
  },
  {
   "cell_type": "code",
   "execution_count": 15,
   "metadata": {},
   "outputs": [],
   "source": [
    "# 2018\n",
    "filepath_demand = os.path.join(\n",
    "    os.path.abspath(\"\"), \"data\", \"demand_data_formatted\", \"Average-Demand-2018.xlsx\"\n",
    ")\n",
    "demand_df = get_demand_monthly(filepath_demand)\n",
    "\n",
    "pv_df_year = pv_df[pv_df.datetime.dt.year == 2018].copy()\n",
    "wind_df_year = wind_df[wind_df.datetime.dt.year == 2018].copy()\n",
    "\n",
    "\n",
    "data_2018 = Data_one_year(\n",
    "    demand_df, wind_df_year, pv_df_year, demand_df[\"demand\"].max()\n",
    ")\n",
    "data_2018.write_main_df()"
   ]
  },
  {
   "cell_type": "code",
   "execution_count": 16,
   "metadata": {},
   "outputs": [],
   "source": [
    "clusters_2018 = Cluster_data(data_2018.cluster_input, 4)\n",
    "np.savetxt(\"2018_clusters_results\", clusters_2018.centroids.T, delimiter=\",\")"
   ]
  },
  {
   "cell_type": "code",
   "execution_count": 17,
   "metadata": {},
   "outputs": [
    {
     "data": {
      "text/plain": [
       "[72, 201, 61, 29]"
      ]
     },
     "execution_count": 17,
     "metadata": {},
     "output_type": "execute_result"
    }
   ],
   "source": [
    "clusters_2018.cluster_weights"
   ]
  },
  {
   "cell_type": "code",
   "execution_count": 18,
   "metadata": {},
   "outputs": [],
   "source": [
    "# %%\n",
    "# all dataframes\n",
    "all_data_df = mergeall(\n",
    "    data_2015.cluster_input,\n",
    "    data_2016.cluster_input,\n",
    "    data_2017.cluster_input,\n",
    "    data_2018.cluster_input,\n",
    ")"
   ]
  },
  {
   "cell_type": "code",
   "execution_count": 19,
   "metadata": {},
   "outputs": [],
   "source": [
    "clusters_all = Cluster_data(all_data_df, 4)\n",
    "np.savetxt(\"all_clusters_results\", clusters_all.centroids.T, delimiter=\",\")"
   ]
  },
  {
   "cell_type": "code",
   "execution_count": 20,
   "metadata": {},
   "outputs": [
    {
     "data": {
      "text/plain": [
       "[267, 488, 90, 608]"
      ]
     },
     "execution_count": 20,
     "metadata": {},
     "output_type": "execute_result"
    }
   ],
   "source": [
    "clusters_all.cluster_weights"
   ]
  },
  {
   "cell_type": "code",
   "execution_count": 21,
   "metadata": {},
   "outputs": [],
   "source": [
    "inertia_list = []\n",
    "for n in range(1, 10):\n",
    "    inertia_list.append(Cluster_data(all_data_df, n).inertia)"
   ]
  },
  {
   "cell_type": "code",
   "execution_count": 22,
   "metadata": {},
   "outputs": [
    {
     "data": {
      "image/png": "[encoded data removed]",
      "text/plain": [
       "<Figure size 640x480 with 1 Axes>"
      ]
     },
     "metadata": {},
     "output_type": "display_data"
    }
   ],
   "source": [
    "plt.plot(range(1, 10), inertia_list)\n",
    "plt.savefig(\"inertia.png\")\n",
    "plt.show()"
   ]
  }
 ],
 "metadata": {
  "kernelspec": {
   "display_name": ".venv",
   "language": "python",
   "name": "python3"
  },
  "language_info": {
   "codemirror_mode": {
    "name": "ipython",
    "version": 3
   },
   "file_extension": ".py",
   "mimetype": "text/x-python",
   "name": "python",
   "nbconvert_exporter": "python",
   "pygments_lexer": "ipython3",
   "version": "3.9.12"
  },
  "orig_nbformat": 4
 },
 "nbformat": 4,
 "nbformat_minor": 2
}
