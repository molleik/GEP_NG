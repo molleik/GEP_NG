{
 "cells": [
  {
   "cell_type": "code",
   "execution_count": 8,
   "metadata": {},
   "outputs": [],
   "source": [
    "from clustering import (\n",
    "    get_demand_daily,\n",
    "    get_supply,\n",
    "    Data_one_year,\n",
    "    get_demand_monthly,\n",
    "    mergeall,\n",
    "    Cluster_data,\n",
    ")\n",
    "import os\n",
    "import matplotlib.pyplot as plt"
   ]
  },
  {
   "cell_type": "code",
   "execution_count": 2,
   "metadata": {},
   "outputs": [],
   "source": [
    "# 2015\n",
    "demand_df = get_demand_daily()\n",
    "filepath_pv = os.path.join(\n",
    "    os.path.abspath(\"\"), \"data\", \"supply_data_formatted\", \"PV\", \"PV_baalbeck_2015.csv\"\n",
    ")\n",
    "pv_df = get_supply(filepath_pv)\n",
    "filepath_wind = os.path.join(\n",
    "    os.path.abspath(\"\"), \"data\", \"supply_data_formatted\", \"Wind\", \"Wind_Akkar_2015.csv\"\n",
    ")\n",
    "wind_df = get_supply(filepath_wind)\n",
    "# wind_df.rename(columns={\"electricity\": \"wind\"},inplace=True)\n",
    "\n",
    "data_2015 = Data_one_year(demand_df, wind_df, pv_df, demand_df[\"demand\"].max())\n",
    "\n",
    "data_2015.write_main_df()"
   ]
  },
  {
   "cell_type": "code",
   "execution_count": 3,
   "metadata": {},
   "outputs": [],
   "source": [
    "# 2016\n",
    "filepath_demand = os.path.join(\n",
    "    os.path.abspath(\"\"), \"data\", \"demand_data_formatted\", \"Average-Demand-2016.xlsx\"\n",
    ")\n",
    "demand_df = get_demand_monthly(filepath_demand)\n",
    "\n",
    "filepath_pv = os.path.join(\n",
    "    os.path.abspath(\"\"), \"data\", \"supply_data_formatted\", \"PV\", \"PV_baalbeck_2016.csv\"\n",
    ")\n",
    "filepath_wind = os.path.join(\n",
    "    os.path.abspath(\"\"), \"data\", \"supply_data_formatted\", \"Wind\", \"Wind_Akkar_2016.csv\"\n",
    ")\n",
    "pv_df = get_supply(filepath_pv)\n",
    "\n",
    "wind_df = get_supply(filepath_wind)\n",
    "\n",
    "data_2016 = Data_one_year(demand_df, wind_df, pv_df, demand_df[\"demand\"].max())\n",
    "data_2016.write_main_df()"
   ]
  },
  {
   "cell_type": "code",
   "execution_count": 4,
   "metadata": {},
   "outputs": [],
   "source": [
    "# 2017\n",
    "\n",
    "filepath_demand = os.path.join(\n",
    "    os.path.abspath(\"\"), \"data\", \"demand_data_formatted\", \"Average-Demand-2017.xlsx\"\n",
    ")\n",
    "demand_df = get_demand_monthly(filepath_demand)\n",
    "\n",
    "filepath_pv = os.path.join(\n",
    "    os.path.abspath(\"\"), \"data\", \"supply_data_formatted\", \"PV\", \"PV_baalbeck_2017.csv\"\n",
    ")\n",
    "filepath_wind = os.path.join(\n",
    "    os.path.abspath(\"\"), \"data\", \"supply_data_formatted\", \"Wind\", \"Wind_Akkar_2017.csv\"\n",
    ")\n",
    "pv_df = get_supply(filepath_pv)\n",
    "\n",
    "wind_df = get_supply(filepath_wind)\n",
    "\n",
    "data_2017 = Data_one_year(demand_df, wind_df, pv_df, demand_df[\"demand\"].max())\n",
    "data_2017.write_main_df()"
   ]
  },
  {
   "cell_type": "code",
   "execution_count": 5,
   "metadata": {},
   "outputs": [],
   "source": [
    "# 2018\n",
    "filepath_demand = os.path.join(\n",
    "    os.path.abspath(\"\"), \"data\", \"demand_data_formatted\", \"Average-Demand-2018.xlsx\"\n",
    ")\n",
    "demand_df = get_demand_monthly(filepath_demand)\n",
    "\n",
    "filepath_pv = os.path.join(\n",
    "    os.path.abspath(\"\"), \"data\", \"supply_data_formatted\", \"PV\", \"PV_baalbeck_2018.csv\"\n",
    ")\n",
    "filepath_wind = os.path.join(\n",
    "    os.path.abspath(\"\"), \"data\", \"supply_data_formatted\", \"Wind\", \"Wind_Akkar_2018.csv\"\n",
    ")\n",
    "pv_df = get_supply(filepath_pv)\n",
    "\n",
    "wind_df = get_supply(filepath_wind)\n",
    "\n",
    "data_2018 = Data_one_year(demand_df, wind_df, pv_df, demand_df[\"demand\"].max())\n",
    "data_2018.write_main_df()"
   ]
  },
  {
   "cell_type": "code",
   "execution_count": 6,
   "metadata": {},
   "outputs": [],
   "source": [
    "# %%\n",
    "# all dataframes\n",
    "all_data_df = mergeall(\n",
    "    data_2015.cluster_input,\n",
    "    data_2016.cluster_input,\n",
    "    data_2017.cluster_input,\n",
    "    data_2018.cluster_input,\n",
    ")"
   ]
  },
  {
   "cell_type": "code",
   "execution_count": 10,
   "metadata": {},
   "outputs": [],
   "source": [
    "inertia_list = []\n",
    "for n in range(1, 10):\n",
    "    inertia_list.append(Cluster_data(all_data_df, n).inertia)"
   ]
  },
  {
   "cell_type": "code",
   "execution_count": 12,
   "metadata": {},
   "outputs": [
    {
     "data": {
      "image/png": "[encoded data removed]",
      "text/plain": [
       "<Figure size 640x480 with 1 Axes>"
      ]
     },
     "metadata": {},
     "output_type": "display_data"
    }
   ],
   "source": [
    "plt.plot(range(1, 10), inertia_list)\n",
    "plt.savefig(\"inertia.png\")\n",
    "plt.show()"
   ]
  }
 ],
 "metadata": {
  "kernelspec": {
   "display_name": ".venv",
   "language": "python",
   "name": "python3"
  },
  "language_info": {
   "codemirror_mode": {
    "name": "ipython",
    "version": 3
   },
   "file_extension": ".py",
   "mimetype": "text/x-python",
   "name": "python",
   "nbconvert_exporter": "python",
   "pygments_lexer": "ipython3",
   "version": "3.9.12"
  },
  "orig_nbformat": 4
 },
 "nbformat": 4,
 "nbformat_minor": 2
}
